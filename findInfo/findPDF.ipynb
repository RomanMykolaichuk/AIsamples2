{
 "cells": [
  {
   "cell_type": "code",
   "execution_count": null,
   "metadata": {},
   "outputs": [],
   "source": [
    "# %pip install google\n",
    "# %pip install PyPDF2\n",
    "# %pip install python-docx\n"
   ]
  },
  {
   "cell_type": "code",
   "execution_count": 3,
   "metadata": {},
   "outputs": [],
   "source": [
    "\n",
    "import os\n",
    "import webbrowser\n",
    "from googlesearch import search\n",
    "from PyPDF2 import PdfReader\n",
    "from docx import Document\n",
    "\n",
    "def search_and_save_links(query, num_results, topic):\n",
    "    search_results = search(query+\" filetype: pdf\", stop=num_results)\n",
    "    links = []\n",
    "\n",
    "    for result in search_results:\n",
    "        links.append(result)\n",
    "\n",
    "    # Create a directory to store files if it doesn't exist\n",
    "    if not os.path.exists(topic):\n",
    "        os.makedirs(topic)\n",
    "\n",
    "    # Write links to a file\n",
    "    with open(f\"{topic}/{topic}_links.txt\", \"w\") as f:\n",
    "        for link in links:\n",
    "            f.write(link + \"\\n\")\n",
    "\n",
    "    return links\n",
    "\n",
    "def open_links_in_browser(links):\n",
    "    for link in links:\n",
    "        webbrowser.open(link)\n",
    "\n",
    "\n",
    "query =  \"Основи prompt ingeneering\"\n",
    "# num_results = int(input(\"Enter the number of results to fetch: \"))\n",
    "num_results = 10\n",
    "topic =query[0:19]\n",
    "\n",
    "links = search_and_save_links(query, num_results, topic)\n",
    "open_browser = True\n",
    "# open_browser = input(\"Do you want to open the links in your browser? (yes/no): \")\n",
    "if open_browser:\n",
    "    open_links_in_browser(links)\n",
    "\n",
    "\n",
    "\n"
   ]
  }
 ],
 "metadata": {
  "kernelspec": {
   "display_name": "Python 3",
   "language": "python",
   "name": "python3"
  },
  "language_info": {
   "codemirror_mode": {
    "name": "ipython",
    "version": 3
   },
   "file_extension": ".py",
   "mimetype": "text/x-python",
   "name": "python",
   "nbconvert_exporter": "python",
   "pygments_lexer": "ipython3",
   "version": "3.10.2"
  },
  "orig_nbformat": 4
 },
 "nbformat": 4,
 "nbformat_minor": 2
}
